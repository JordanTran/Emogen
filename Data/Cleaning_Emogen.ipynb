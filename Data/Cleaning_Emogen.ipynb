{
  "cells": [
    {
      "cell_type": "code",
      "source": [
        "!pip install emoji\n",
        "!pip install transformers\n",
        "!pip install sentencepiece"
      ],
      "metadata": {
        "colab": {
          "base_uri": "https://localhost:8080/"
        },
        "id": "7ssHr8GktY4R",
        "outputId": "add63763-7c98-4df5-e85d-0f0580368766"
      },
      "execution_count": null,
      "outputs": [
        {
          "output_type": "stream",
          "name": "stdout",
          "text": [
            "Collecting emoji\n",
            "  Downloading emoji-1.7.0.tar.gz (175 kB)\n",
            "\u001b[?25l\r\u001b[K     |█▉                              | 10 kB 28.7 MB/s eta 0:00:01\r\u001b[K     |███▊                            | 20 kB 36.7 MB/s eta 0:00:01\r\u001b[K     |█████▋                          | 30 kB 27.6 MB/s eta 0:00:01\r\u001b[K     |███████▌                        | 40 kB 15.5 MB/s eta 0:00:01\r\u001b[K     |█████████▍                      | 51 kB 12.9 MB/s eta 0:00:01\r\u001b[K     |███████████▏                    | 61 kB 14.9 MB/s eta 0:00:01\r\u001b[K     |█████████████                   | 71 kB 15.0 MB/s eta 0:00:01\r\u001b[K     |███████████████                 | 81 kB 14.7 MB/s eta 0:00:01\r\u001b[K     |████████████████▉               | 92 kB 16.1 MB/s eta 0:00:01\r\u001b[K     |██████████████████▊             | 102 kB 14.3 MB/s eta 0:00:01\r\u001b[K     |████████████████████▌           | 112 kB 14.3 MB/s eta 0:00:01\r\u001b[K     |██████████████████████▍         | 122 kB 14.3 MB/s eta 0:00:01\r\u001b[K     |████████████████████████▎       | 133 kB 14.3 MB/s eta 0:00:01\r\u001b[K     |██████████████████████████▏     | 143 kB 14.3 MB/s eta 0:00:01\r\u001b[K     |████████████████████████████    | 153 kB 14.3 MB/s eta 0:00:01\r\u001b[K     |█████████████████████████████▉  | 163 kB 14.3 MB/s eta 0:00:01\r\u001b[K     |███████████████████████████████▊| 174 kB 14.3 MB/s eta 0:00:01\r\u001b[K     |████████████████████████████████| 175 kB 14.3 MB/s \n",
            "\u001b[?25hBuilding wheels for collected packages: emoji\n",
            "  Building wheel for emoji (setup.py) ... \u001b[?25l\u001b[?25hdone\n",
            "  Created wheel for emoji: filename=emoji-1.7.0-py3-none-any.whl size=171046 sha256=62a877a83433cc91aa4a155a4b2e09cb2291bd9290c31cc9e9de6640246066e8\n",
            "  Stored in directory: /root/.cache/pip/wheels/8a/4e/b6/57b01db010d17ef6ea9b40300af725ef3e210cb1acfb7ac8b6\n",
            "Successfully built emoji\n",
            "Installing collected packages: emoji\n",
            "Successfully installed emoji-1.7.0\n",
            "Collecting transformers\n",
            "  Downloading transformers-4.17.0-py3-none-any.whl (3.8 MB)\n",
            "\u001b[K     |████████████████████████████████| 3.8 MB 14.8 MB/s \n",
            "\u001b[?25hRequirement already satisfied: regex!=2019.12.17 in /usr/local/lib/python3.7/dist-packages (from transformers) (2019.12.20)\n",
            "Collecting huggingface-hub<1.0,>=0.1.0\n",
            "  Downloading huggingface_hub-0.4.0-py3-none-any.whl (67 kB)\n",
            "\u001b[K     |████████████████████████████████| 67 kB 7.1 MB/s \n",
            "\u001b[?25hRequirement already satisfied: filelock in /usr/local/lib/python3.7/dist-packages (from transformers) (3.6.0)\n",
            "Collecting pyyaml>=5.1\n",
            "  Downloading PyYAML-6.0-cp37-cp37m-manylinux_2_5_x86_64.manylinux1_x86_64.manylinux_2_12_x86_64.manylinux2010_x86_64.whl (596 kB)\n",
            "\u001b[K     |████████████████████████████████| 596 kB 75.2 MB/s \n",
            "\u001b[?25hRequirement already satisfied: numpy>=1.17 in /usr/local/lib/python3.7/dist-packages (from transformers) (1.21.5)\n",
            "Requirement already satisfied: requests in /usr/local/lib/python3.7/dist-packages (from transformers) (2.23.0)\n",
            "Collecting tokenizers!=0.11.3,>=0.11.1\n",
            "  Downloading tokenizers-0.11.6-cp37-cp37m-manylinux_2_12_x86_64.manylinux2010_x86_64.whl (6.5 MB)\n",
            "\u001b[K     |████████████████████████████████| 6.5 MB 61.6 MB/s \n",
            "\u001b[?25hRequirement already satisfied: tqdm>=4.27 in /usr/local/lib/python3.7/dist-packages (from transformers) (4.63.0)\n",
            "Requirement already satisfied: importlib-metadata in /usr/local/lib/python3.7/dist-packages (from transformers) (4.11.3)\n",
            "Collecting sacremoses\n",
            "  Downloading sacremoses-0.0.49-py3-none-any.whl (895 kB)\n",
            "\u001b[K     |████████████████████████████████| 895 kB 66.1 MB/s \n",
            "\u001b[?25hRequirement already satisfied: packaging>=20.0 in /usr/local/lib/python3.7/dist-packages (from transformers) (21.3)\n",
            "Requirement already satisfied: typing-extensions>=3.7.4.3 in /usr/local/lib/python3.7/dist-packages (from huggingface-hub<1.0,>=0.1.0->transformers) (3.10.0.2)\n",
            "Requirement already satisfied: pyparsing!=3.0.5,>=2.0.2 in /usr/local/lib/python3.7/dist-packages (from packaging>=20.0->transformers) (3.0.7)\n",
            "Requirement already satisfied: zipp>=0.5 in /usr/local/lib/python3.7/dist-packages (from importlib-metadata->transformers) (3.7.0)\n",
            "Requirement already satisfied: idna<3,>=2.5 in /usr/local/lib/python3.7/dist-packages (from requests->transformers) (2.10)\n",
            "Requirement already satisfied: urllib3!=1.25.0,!=1.25.1,<1.26,>=1.21.1 in /usr/local/lib/python3.7/dist-packages (from requests->transformers) (1.24.3)\n",
            "Requirement already satisfied: certifi>=2017.4.17 in /usr/local/lib/python3.7/dist-packages (from requests->transformers) (2021.10.8)\n",
            "Requirement already satisfied: chardet<4,>=3.0.2 in /usr/local/lib/python3.7/dist-packages (from requests->transformers) (3.0.4)\n",
            "Requirement already satisfied: click in /usr/local/lib/python3.7/dist-packages (from sacremoses->transformers) (7.1.2)\n",
            "Requirement already satisfied: joblib in /usr/local/lib/python3.7/dist-packages (from sacremoses->transformers) (1.1.0)\n",
            "Requirement already satisfied: six in /usr/local/lib/python3.7/dist-packages (from sacremoses->transformers) (1.15.0)\n",
            "Installing collected packages: pyyaml, tokenizers, sacremoses, huggingface-hub, transformers\n",
            "  Attempting uninstall: pyyaml\n",
            "    Found existing installation: PyYAML 3.13\n",
            "    Uninstalling PyYAML-3.13:\n",
            "      Successfully uninstalled PyYAML-3.13\n",
            "Successfully installed huggingface-hub-0.4.0 pyyaml-6.0 sacremoses-0.0.49 tokenizers-0.11.6 transformers-4.17.0\n",
            "Collecting sentencepiece\n",
            "  Downloading sentencepiece-0.1.96-cp37-cp37m-manylinux_2_17_x86_64.manylinux2014_x86_64.whl (1.2 MB)\n",
            "\u001b[K     |████████████████████████████████| 1.2 MB 14.3 MB/s \n",
            "\u001b[?25hInstalling collected packages: sentencepiece\n",
            "Successfully installed sentencepiece-0.1.96\n"
          ]
        }
      ]
    },
    {
      "cell_type": "code",
      "source": [
        "from google.colab import drive\n",
        "drive.mount('/content/drive')"
      ],
      "metadata": {
        "colab": {
          "base_uri": "https://localhost:8080/"
        },
        "id": "WyF3AwvxBWX9",
        "outputId": "aea1527c-69a3-4719-8f25-315a57ab1ff3"
      },
      "execution_count": null,
      "outputs": [
        {
          "output_type": "stream",
          "name": "stdout",
          "text": [
            "Mounted at /content/drive\n"
          ]
        }
      ]
    },
    {
      "cell_type": "code",
      "execution_count": null,
      "metadata": {
        "id": "S6PfNGyYtN_v"
      },
      "outputs": [],
      "source": [
        "import pandas as pd\n",
        "import numpy as np\n",
        "import torch\n",
        "import emoji\n",
        "import re\n",
        "RANDOM_SEED = 123"
      ]
    },
    {
      "cell_type": "code",
      "source": [
        "emo_data2 = pd.read_csv('/content/drive/MyDrive/Emogen/cleaned_emogen_mask_full.csv')\n",
        "emo_data2.info()"
      ],
      "metadata": {
        "colab": {
          "base_uri": "https://localhost:8080/"
        },
        "id": "ZTm4e3neddGp",
        "outputId": "bad4db02-960a-410e-920a-d0e6fa145e82"
      },
      "execution_count": null,
      "outputs": [
        {
          "output_type": "stream",
          "name": "stdout",
          "text": [
            "<class 'pandas.core.frame.DataFrame'>\n",
            "RangeIndex: 8819812 entries, 0 to 8819811\n",
            "Data columns (total 4 columns):\n",
            " #   Column         Dtype \n",
            "---  ------         ----- \n",
            " 0   Datetime       object\n",
            " 1   Text           object\n",
            " 2   Label          object\n",
            " 3   Unmasked_Text  object\n",
            "dtypes: object(4)\n",
            "memory usage: 269.2+ MB\n"
          ]
        }
      ]
    },
    {
      "cell_type": "code",
      "source": [
        "min(emo_data2.groupby('Label').size())"
      ],
      "metadata": {
        "colab": {
          "base_uri": "https://localhost:8080/"
        },
        "id": "b0sLcGU7d8ZA",
        "outputId": "29dfbb47-592a-4e4c-b8e2-241939c38e2f"
      },
      "execution_count": null,
      "outputs": [
        {
          "output_type": "execute_result",
          "data": {
            "text/plain": [
              "70827"
            ]
          },
          "metadata": {},
          "execution_count": 5
        }
      ]
    },
    {
      "cell_type": "code",
      "source": [
        "datasets = []\n",
        "for emoji in emo_data2.Label.unique():\n",
        "  temp = emo_data2.query('Label == @emoji').sample(70000)\n",
        "  datasets += [temp]"
      ],
      "metadata": {
        "id": "iI4kd42kdwMa"
      },
      "execution_count": null,
      "outputs": []
    },
    {
      "cell_type": "code",
      "source": [
        "combined_60 = pd.concat(datasets).reset_index(drop = True)\n",
        "combined_60.head()"
      ],
      "metadata": {
        "colab": {
          "base_uri": "https://localhost:8080/",
          "height": 206
        },
        "id": "G0gRJT6wewoh",
        "outputId": "0652121a-b8f1-4028-cbee-872f30fac0b3"
      },
      "execution_count": null,
      "outputs": [
        {
          "output_type": "execute_result",
          "data": {
            "text/plain": [
              "                    Datetime  \\\n",
              "0  2022-03-18 18:53:18+00:00   \n",
              "1  2022-03-18 15:57:40+00:00   \n",
              "2  2022-03-18 16:22:44+00:00   \n",
              "3  2022-03-18 19:40:06+00:00   \n",
              "4  2022-03-18 14:45:18+00:00   \n",
              "\n",
              "                                                Text Label  \\\n",
              "0  the accuracy&gt;&gt;&gt;&gt;:face_with_tears_o...     😭   \n",
              "1  i don’t think i can manage to get artifacts th...     😭   \n",
              "2  i hesitated to buy a pc and now it’s gone    [...     😭   \n",
              "3  :rolling_on_the_floor_laughing::rolling_on_the...     😭   \n",
              "4  mouloud sghir                        [MASK]  wtf      😭   \n",
              "\n",
              "                                       Unmasked_Text  \n",
              "0                 the accuracy&gt;&gt;&gt;&gt;😂😂 😭    \n",
              "1  i don’t think i can manage to get artifacts th...  \n",
              "2   i hesitated to buy a pc and now it’s gone  😭  😭   \n",
              "3  🤣🤣🤣\\nmy job tired of me dressing like an hobot...  \n",
              "4  mouloud sghir  😭  😭  😭  😭  😭  😭  😭  😭  😭  😭  😭...  "
            ],
            "text/html": [
              "\n",
              "  <div id=\"df-6c2f29d6-fe74-41c4-b311-c7f7f5b92858\">\n",
              "    <div class=\"colab-df-container\">\n",
              "      <div>\n",
              "<style scoped>\n",
              "    .dataframe tbody tr th:only-of-type {\n",
              "        vertical-align: middle;\n",
              "    }\n",
              "\n",
              "    .dataframe tbody tr th {\n",
              "        vertical-align: top;\n",
              "    }\n",
              "\n",
              "    .dataframe thead th {\n",
              "        text-align: right;\n",
              "    }\n",
              "</style>\n",
              "<table border=\"1\" class=\"dataframe\">\n",
              "  <thead>\n",
              "    <tr style=\"text-align: right;\">\n",
              "      <th></th>\n",
              "      <th>Datetime</th>\n",
              "      <th>Text</th>\n",
              "      <th>Label</th>\n",
              "      <th>Unmasked_Text</th>\n",
              "    </tr>\n",
              "  </thead>\n",
              "  <tbody>\n",
              "    <tr>\n",
              "      <th>0</th>\n",
              "      <td>2022-03-18 18:53:18+00:00</td>\n",
              "      <td>the accuracy&amp;gt;&amp;gt;&amp;gt;&amp;gt;:face_with_tears_o...</td>\n",
              "      <td>😭</td>\n",
              "      <td>the accuracy&amp;gt;&amp;gt;&amp;gt;&amp;gt;😂😂 😭</td>\n",
              "    </tr>\n",
              "    <tr>\n",
              "      <th>1</th>\n",
              "      <td>2022-03-18 15:57:40+00:00</td>\n",
              "      <td>i don’t think i can manage to get artifacts th...</td>\n",
              "      <td>😭</td>\n",
              "      <td>i don’t think i can manage to get artifacts th...</td>\n",
              "    </tr>\n",
              "    <tr>\n",
              "      <th>2</th>\n",
              "      <td>2022-03-18 16:22:44+00:00</td>\n",
              "      <td>i hesitated to buy a pc and now it’s gone    [...</td>\n",
              "      <td>😭</td>\n",
              "      <td>i hesitated to buy a pc and now it’s gone  😭  😭</td>\n",
              "    </tr>\n",
              "    <tr>\n",
              "      <th>3</th>\n",
              "      <td>2022-03-18 19:40:06+00:00</td>\n",
              "      <td>:rolling_on_the_floor_laughing::rolling_on_the...</td>\n",
              "      <td>😭</td>\n",
              "      <td>🤣🤣🤣\\nmy job tired of me dressing like an hobot...</td>\n",
              "    </tr>\n",
              "    <tr>\n",
              "      <th>4</th>\n",
              "      <td>2022-03-18 14:45:18+00:00</td>\n",
              "      <td>mouloud sghir                        [MASK]  wtf</td>\n",
              "      <td>😭</td>\n",
              "      <td>mouloud sghir  😭  😭  😭  😭  😭  😭  😭  😭  😭  😭  😭...</td>\n",
              "    </tr>\n",
              "  </tbody>\n",
              "</table>\n",
              "</div>\n",
              "      <button class=\"colab-df-convert\" onclick=\"convertToInteractive('df-6c2f29d6-fe74-41c4-b311-c7f7f5b92858')\"\n",
              "              title=\"Convert this dataframe to an interactive table.\"\n",
              "              style=\"display:none;\">\n",
              "        \n",
              "  <svg xmlns=\"http://www.w3.org/2000/svg\" height=\"24px\"viewBox=\"0 0 24 24\"\n",
              "       width=\"24px\">\n",
              "    <path d=\"M0 0h24v24H0V0z\" fill=\"none\"/>\n",
              "    <path d=\"M18.56 5.44l.94 2.06.94-2.06 2.06-.94-2.06-.94-.94-2.06-.94 2.06-2.06.94zm-11 1L8.5 8.5l.94-2.06 2.06-.94-2.06-.94L8.5 2.5l-.94 2.06-2.06.94zm10 10l.94 2.06.94-2.06 2.06-.94-2.06-.94-.94-2.06-.94 2.06-2.06.94z\"/><path d=\"M17.41 7.96l-1.37-1.37c-.4-.4-.92-.59-1.43-.59-.52 0-1.04.2-1.43.59L10.3 9.45l-7.72 7.72c-.78.78-.78 2.05 0 2.83L4 21.41c.39.39.9.59 1.41.59.51 0 1.02-.2 1.41-.59l7.78-7.78 2.81-2.81c.8-.78.8-2.07 0-2.86zM5.41 20L4 18.59l7.72-7.72 1.47 1.35L5.41 20z\"/>\n",
              "  </svg>\n",
              "      </button>\n",
              "      \n",
              "  <style>\n",
              "    .colab-df-container {\n",
              "      display:flex;\n",
              "      flex-wrap:wrap;\n",
              "      gap: 12px;\n",
              "    }\n",
              "\n",
              "    .colab-df-convert {\n",
              "      background-color: #E8F0FE;\n",
              "      border: none;\n",
              "      border-radius: 50%;\n",
              "      cursor: pointer;\n",
              "      display: none;\n",
              "      fill: #1967D2;\n",
              "      height: 32px;\n",
              "      padding: 0 0 0 0;\n",
              "      width: 32px;\n",
              "    }\n",
              "\n",
              "    .colab-df-convert:hover {\n",
              "      background-color: #E2EBFA;\n",
              "      box-shadow: 0px 1px 2px rgba(60, 64, 67, 0.3), 0px 1px 3px 1px rgba(60, 64, 67, 0.15);\n",
              "      fill: #174EA6;\n",
              "    }\n",
              "\n",
              "    [theme=dark] .colab-df-convert {\n",
              "      background-color: #3B4455;\n",
              "      fill: #D2E3FC;\n",
              "    }\n",
              "\n",
              "    [theme=dark] .colab-df-convert:hover {\n",
              "      background-color: #434B5C;\n",
              "      box-shadow: 0px 1px 3px 1px rgba(0, 0, 0, 0.15);\n",
              "      filter: drop-shadow(0px 1px 2px rgba(0, 0, 0, 0.3));\n",
              "      fill: #FFFFFF;\n",
              "    }\n",
              "  </style>\n",
              "\n",
              "      <script>\n",
              "        const buttonEl =\n",
              "          document.querySelector('#df-6c2f29d6-fe74-41c4-b311-c7f7f5b92858 button.colab-df-convert');\n",
              "        buttonEl.style.display =\n",
              "          google.colab.kernel.accessAllowed ? 'block' : 'none';\n",
              "\n",
              "        async function convertToInteractive(key) {\n",
              "          const element = document.querySelector('#df-6c2f29d6-fe74-41c4-b311-c7f7f5b92858');\n",
              "          const dataTable =\n",
              "            await google.colab.kernel.invokeFunction('convertToInteractive',\n",
              "                                                     [key], {});\n",
              "          if (!dataTable) return;\n",
              "\n",
              "          const docLinkHtml = 'Like what you see? Visit the ' +\n",
              "            '<a target=\"_blank\" href=https://colab.research.google.com/notebooks/data_table.ipynb>data table notebook</a>'\n",
              "            + ' to learn more about interactive tables.';\n",
              "          element.innerHTML = '';\n",
              "          dataTable['output_type'] = 'display_data';\n",
              "          await google.colab.output.renderOutput(dataTable, element);\n",
              "          const docLink = document.createElement('div');\n",
              "          docLink.innerHTML = docLinkHtml;\n",
              "          element.appendChild(docLink);\n",
              "        }\n",
              "      </script>\n",
              "    </div>\n",
              "  </div>\n",
              "  "
            ]
          },
          "metadata": {},
          "execution_count": 62
        }
      ]
    },
    {
      "cell_type": "code",
      "source": [
        "combined_60.to_csv('/content/drive/MyDrive/Emogen/emogen_mask_70.csv', index = False )"
      ],
      "metadata": {
        "id": "2gOa1Nw2fJDQ"
      },
      "execution_count": null,
      "outputs": []
    },
    {
      "cell_type": "code",
      "execution_count": null,
      "metadata": {
        "colab": {
          "base_uri": "https://localhost:8080/"
        },
        "id": "SjOqm_oatN_w",
        "outputId": "068d09bd-c2e1-4439-eb12-061aec388006"
      },
      "outputs": [
        {
          "output_type": "stream",
          "name": "stdout",
          "text": [
            "<class 'pandas.core.frame.DataFrame'>\n",
            "RangeIndex: 3570000 entries, 0 to 3569999\n",
            "Data columns (total 4 columns):\n",
            " #   Column         Dtype \n",
            "---  ------         ----- \n",
            " 0   Datetime       object\n",
            " 1   Text           object\n",
            " 2   Label          object\n",
            " 3   Unmasked_Text  object\n",
            "dtypes: object(4)\n",
            "memory usage: 108.9+ MB\n"
          ]
        }
      ],
      "source": [
        "emo_data = pd.read_csv('/content/drive/MyDrive/Emogen/emogen_mask_70.csv')\n",
        "emo_data.info()"
      ]
    },
    {
      "cell_type": "code",
      "execution_count": null,
      "metadata": {
        "id": "uzV2cEmwtN_x"
      },
      "outputs": [],
      "source": [
        "def text_clean(x,emojis):\n",
        "    x = re.sub(r\"{}\".format('MASK'), emojis, x) \n",
        "    x = re.sub(r'\\[', '', x)\n",
        "    x = re.sub(r'\\]', '', x)\n",
        "    x = emoji.emojize(x)\n",
        "    return x"
      ]
    },
    {
      "cell_type": "code",
      "source": [
        "def text_clean3(text):\n",
        "    x = emoji.emojize(text)\n",
        "    return x"
      ],
      "metadata": {
        "id": "XrLt4qYVSg8U"
      },
      "execution_count": null,
      "outputs": []
    },
    {
      "cell_type": "code",
      "source": [
        "def text_clean2(text):\n",
        "    b = filter(lambda x:x[0]!='@', text.split())\n",
        "    b = \" \".join(b)\n",
        "    return b"
      ],
      "metadata": {
        "id": "5kea2kjuPKBe"
      },
      "execution_count": null,
      "outputs": []
    },
    {
      "cell_type": "code",
      "source": [
        "def replace_hash(x):\n",
        "   x = re.sub(r'#([^\\s]+)' , r'\\1', x)\n",
        "   x = re.sub('(www\\.[\\s]+)', '', x)\n",
        "   x = x.lower()\n",
        "   return x"
      ],
      "metadata": {
        "id": "c0NdPIDG0ahW"
      },
      "execution_count": null,
      "outputs": []
    },
    {
      "cell_type": "code",
      "source": [
        "def one_mask(x):\n",
        "  return x.replace('[MASK]', '', x.count('[MASK]')-1)"
      ],
      "metadata": {
        "id": "U8bi8yTctaJl"
      },
      "execution_count": null,
      "outputs": []
    },
    {
      "cell_type": "code",
      "execution_count": null,
      "metadata": {
        "colab": {
          "base_uri": "https://localhost:8080/",
          "height": 206
        },
        "id": "5WwWQhdQtN_x",
        "outputId": "21f21d9c-756c-4693-b08d-590a24d714f4"
      },
      "outputs": [
        {
          "output_type": "execute_result",
          "data": {
            "text/plain": [
              "                    Datetime  \\\n",
              "0  2022-03-18 18:53:18+00:00   \n",
              "2  2022-03-18 16:22:44+00:00   \n",
              "4  2022-03-18 14:45:18+00:00   \n",
              "5  2022-03-18 19:37:43+00:00   \n",
              "6  2022-03-18 15:42:44+00:00   \n",
              "\n",
              "                                                Text Label  \\\n",
              "0              the accuracy&gt;&gt;&gt;&gt;😂😂 [mask]     😭   \n",
              "2   i hesitated to buy a pc and now it’s gone [mask]     😭   \n",
              "4                           mouloud sghir [mask] wtf     😭   \n",
              "5  also nobody gonna stop saying the word himbo b...     😭   \n",
              "6  i just wanna know what channel the game gone b...     😭   \n",
              "\n",
              "                                       Unmasked_Text  \n",
              "0                   the accuracy&gt;&gt;&gt;&gt;😂😂 😭  \n",
              "2      i hesitated to buy a pc and now it’s gone 😭 😭  \n",
              "4          mouloud sghir 😭 😭 😭 😭 😭 😭 😭 😭 😭 😭 😭 😭 wtf  \n",
              "5  also nobody gonna stop saying the word himbo b...  \n",
              "6  i just wanna know what channel the game gone b...  "
            ],
            "text/html": [
              "\n",
              "  <div id=\"df-b01ba84e-686f-4be1-8779-87446d8a1b85\">\n",
              "    <div class=\"colab-df-container\">\n",
              "      <div>\n",
              "<style scoped>\n",
              "    .dataframe tbody tr th:only-of-type {\n",
              "        vertical-align: middle;\n",
              "    }\n",
              "\n",
              "    .dataframe tbody tr th {\n",
              "        vertical-align: top;\n",
              "    }\n",
              "\n",
              "    .dataframe thead th {\n",
              "        text-align: right;\n",
              "    }\n",
              "</style>\n",
              "<table border=\"1\" class=\"dataframe\">\n",
              "  <thead>\n",
              "    <tr style=\"text-align: right;\">\n",
              "      <th></th>\n",
              "      <th>Datetime</th>\n",
              "      <th>Text</th>\n",
              "      <th>Label</th>\n",
              "      <th>Unmasked_Text</th>\n",
              "    </tr>\n",
              "  </thead>\n",
              "  <tbody>\n",
              "    <tr>\n",
              "      <th>0</th>\n",
              "      <td>2022-03-18 18:53:18+00:00</td>\n",
              "      <td>the accuracy&amp;gt;&amp;gt;&amp;gt;&amp;gt;😂😂 [mask]</td>\n",
              "      <td>😭</td>\n",
              "      <td>the accuracy&amp;gt;&amp;gt;&amp;gt;&amp;gt;😂😂 😭</td>\n",
              "    </tr>\n",
              "    <tr>\n",
              "      <th>2</th>\n",
              "      <td>2022-03-18 16:22:44+00:00</td>\n",
              "      <td>i hesitated to buy a pc and now it’s gone [mask]</td>\n",
              "      <td>😭</td>\n",
              "      <td>i hesitated to buy a pc and now it’s gone 😭 😭</td>\n",
              "    </tr>\n",
              "    <tr>\n",
              "      <th>4</th>\n",
              "      <td>2022-03-18 14:45:18+00:00</td>\n",
              "      <td>mouloud sghir [mask] wtf</td>\n",
              "      <td>😭</td>\n",
              "      <td>mouloud sghir 😭 😭 😭 😭 😭 😭 😭 😭 😭 😭 😭 😭 wtf</td>\n",
              "    </tr>\n",
              "    <tr>\n",
              "      <th>5</th>\n",
              "      <td>2022-03-18 19:37:43+00:00</td>\n",
              "      <td>also nobody gonna stop saying the word himbo b...</td>\n",
              "      <td>😭</td>\n",
              "      <td>also nobody gonna stop saying the word himbo b...</td>\n",
              "    </tr>\n",
              "    <tr>\n",
              "      <th>6</th>\n",
              "      <td>2022-03-18 15:42:44+00:00</td>\n",
              "      <td>i just wanna know what channel the game gone b...</td>\n",
              "      <td>😭</td>\n",
              "      <td>i just wanna know what channel the game gone b...</td>\n",
              "    </tr>\n",
              "  </tbody>\n",
              "</table>\n",
              "</div>\n",
              "      <button class=\"colab-df-convert\" onclick=\"convertToInteractive('df-b01ba84e-686f-4be1-8779-87446d8a1b85')\"\n",
              "              title=\"Convert this dataframe to an interactive table.\"\n",
              "              style=\"display:none;\">\n",
              "        \n",
              "  <svg xmlns=\"http://www.w3.org/2000/svg\" height=\"24px\"viewBox=\"0 0 24 24\"\n",
              "       width=\"24px\">\n",
              "    <path d=\"M0 0h24v24H0V0z\" fill=\"none\"/>\n",
              "    <path d=\"M18.56 5.44l.94 2.06.94-2.06 2.06-.94-2.06-.94-.94-2.06-.94 2.06-2.06.94zm-11 1L8.5 8.5l.94-2.06 2.06-.94-2.06-.94L8.5 2.5l-.94 2.06-2.06.94zm10 10l.94 2.06.94-2.06 2.06-.94-2.06-.94-.94-2.06-.94 2.06-2.06.94z\"/><path d=\"M17.41 7.96l-1.37-1.37c-.4-.4-.92-.59-1.43-.59-.52 0-1.04.2-1.43.59L10.3 9.45l-7.72 7.72c-.78.78-.78 2.05 0 2.83L4 21.41c.39.39.9.59 1.41.59.51 0 1.02-.2 1.41-.59l7.78-7.78 2.81-2.81c.8-.78.8-2.07 0-2.86zM5.41 20L4 18.59l7.72-7.72 1.47 1.35L5.41 20z\"/>\n",
              "  </svg>\n",
              "      </button>\n",
              "      \n",
              "  <style>\n",
              "    .colab-df-container {\n",
              "      display:flex;\n",
              "      flex-wrap:wrap;\n",
              "      gap: 12px;\n",
              "    }\n",
              "\n",
              "    .colab-df-convert {\n",
              "      background-color: #E8F0FE;\n",
              "      border: none;\n",
              "      border-radius: 50%;\n",
              "      cursor: pointer;\n",
              "      display: none;\n",
              "      fill: #1967D2;\n",
              "      height: 32px;\n",
              "      padding: 0 0 0 0;\n",
              "      width: 32px;\n",
              "    }\n",
              "\n",
              "    .colab-df-convert:hover {\n",
              "      background-color: #E2EBFA;\n",
              "      box-shadow: 0px 1px 2px rgba(60, 64, 67, 0.3), 0px 1px 3px 1px rgba(60, 64, 67, 0.15);\n",
              "      fill: #174EA6;\n",
              "    }\n",
              "\n",
              "    [theme=dark] .colab-df-convert {\n",
              "      background-color: #3B4455;\n",
              "      fill: #D2E3FC;\n",
              "    }\n",
              "\n",
              "    [theme=dark] .colab-df-convert:hover {\n",
              "      background-color: #434B5C;\n",
              "      box-shadow: 0px 1px 3px 1px rgba(0, 0, 0, 0.15);\n",
              "      filter: drop-shadow(0px 1px 2px rgba(0, 0, 0, 0.3));\n",
              "      fill: #FFFFFF;\n",
              "    }\n",
              "  </style>\n",
              "\n",
              "      <script>\n",
              "        const buttonEl =\n",
              "          document.querySelector('#df-b01ba84e-686f-4be1-8779-87446d8a1b85 button.colab-df-convert');\n",
              "        buttonEl.style.display =\n",
              "          google.colab.kernel.accessAllowed ? 'block' : 'none';\n",
              "\n",
              "        async function convertToInteractive(key) {\n",
              "          const element = document.querySelector('#df-b01ba84e-686f-4be1-8779-87446d8a1b85');\n",
              "          const dataTable =\n",
              "            await google.colab.kernel.invokeFunction('convertToInteractive',\n",
              "                                                     [key], {});\n",
              "          if (!dataTable) return;\n",
              "\n",
              "          const docLinkHtml = 'Like what you see? Visit the ' +\n",
              "            '<a target=\"_blank\" href=https://colab.research.google.com/notebooks/data_table.ipynb>data table notebook</a>'\n",
              "            + ' to learn more about interactive tables.';\n",
              "          element.innerHTML = '';\n",
              "          dataTable['output_type'] = 'display_data';\n",
              "          await google.colab.output.renderOutput(dataTable, element);\n",
              "          const docLink = document.createElement('div');\n",
              "          docLink.innerHTML = docLinkHtml;\n",
              "          element.appendChild(docLink);\n",
              "        }\n",
              "      </script>\n",
              "    </div>\n",
              "  </div>\n",
              "  "
            ]
          },
          "metadata": {},
          "execution_count": 106
        }
      ],
      "source": [
        "emo_data = emo_data[emo_data.Unmasked_Text.str.split().apply(len) < 30]\n",
        "emo_data = emo_data[emo_data.Unmasked_Text.str.split().apply(len) > 2]\n",
        "emo_data = emo_data.dropna()\n",
        "emo_data = emo_data.query('Label != \"\"')\n",
        "emo_data = emo_data.query('Text != \"\"')\n",
        "emo_data = emo_data[emo_data.Text.str.contains('[MASK]')]\n",
        "emo_data[-emo_data.Unmasked_Text.str.contains('[MASK]')]\n",
        "#for index, emo in enumerate(emo_data.Label):\n",
        "#  emo_data.Unmasked_Text.iloc[index] = text_clean(emo_data.Unmasked_Text.iloc[index], emo)\n",
        "emo_data['Text'] = emo_data.Text.apply(replace_hash)\n",
        "emo_data['Unmasked_Text'] = emo_data.Unmasked_Text.apply(replace_hash)\n",
        "emo_data['Text'] = emo_data.Text.apply(text_clean3)\n",
        "emo_data['Text'] = emo_data.Text.apply(text_clean2)\n",
        "emo_data['Text'] = emo_data.Text.apply(one_mask)\n",
        "emo_data['Unmasked_Text'] = emo_data.Unmasked_Text.apply(text_clean2)\n",
        "emo_data = emo_data[-emo_data.Unmasked_Text.str.contains('[MASK]')]\n",
        "emo_data.head()"
      ]
    },
    {
      "cell_type": "code",
      "source": [
        "emo_data = emo_data[-emo_data.Text.str.contains('&')]\n",
        "emo_data = emo_data[-emo_data.Text.str.contains('/')]\n",
        "emo_data = emo_data[-emo_data.Text.str.contains(\" \\ \")]\n",
        "emo_data = emo_data[-emo_data.Text.str.contains('{')]\n",
        "emo_data = emo_data[-emo_data.Text.str.contains('}')]\n",
        "emo_data = emo_data[-emo_data.Text.str.contains('_')]\n",
        "emo_data.head()"
      ],
      "metadata": {
        "colab": {
          "base_uri": "https://localhost:8080/",
          "height": 206
        },
        "id": "OtRGdw4NFiI9",
        "outputId": "a561afb2-c21d-4f5e-fed2-e7b23fa344c5"
      },
      "execution_count": null,
      "outputs": [
        {
          "output_type": "execute_result",
          "data": {
            "text/plain": [
              "                    Datetime  \\\n",
              "2  2022-03-18 16:22:44+00:00   \n",
              "4  2022-03-18 14:45:18+00:00   \n",
              "5  2022-03-18 19:37:43+00:00   \n",
              "6  2022-03-18 15:42:44+00:00   \n",
              "7  2022-03-18 14:43:22+00:00   \n",
              "\n",
              "                                                Text Label  \\\n",
              "2   i hesitated to buy a pc and now it’s gone [mask]     😭   \n",
              "4                           mouloud sghir [mask] wtf     😭   \n",
              "5  also nobody gonna stop saying the word himbo b...     😭   \n",
              "6  i just wanna know what channel the game gone b...     😭   \n",
              "7               lmfaoooooo [mask] please seek help x     😭   \n",
              "\n",
              "                                       Unmasked_Text  \n",
              "2      i hesitated to buy a pc and now it’s gone 😭 😭  \n",
              "4          mouloud sghir 😭 😭 😭 😭 😭 😭 😭 😭 😭 😭 😭 😭 wtf  \n",
              "5  also nobody gonna stop saying the word himbo b...  \n",
              "6  i just wanna know what channel the game gone b...  \n",
              "7                lmfaoooooo 😭 😭 😭 please seek help x  "
            ],
            "text/html": [
              "\n",
              "  <div id=\"df-d178b827-16ee-4e05-8614-dbe1fdaff2e3\">\n",
              "    <div class=\"colab-df-container\">\n",
              "      <div>\n",
              "<style scoped>\n",
              "    .dataframe tbody tr th:only-of-type {\n",
              "        vertical-align: middle;\n",
              "    }\n",
              "\n",
              "    .dataframe tbody tr th {\n",
              "        vertical-align: top;\n",
              "    }\n",
              "\n",
              "    .dataframe thead th {\n",
              "        text-align: right;\n",
              "    }\n",
              "</style>\n",
              "<table border=\"1\" class=\"dataframe\">\n",
              "  <thead>\n",
              "    <tr style=\"text-align: right;\">\n",
              "      <th></th>\n",
              "      <th>Datetime</th>\n",
              "      <th>Text</th>\n",
              "      <th>Label</th>\n",
              "      <th>Unmasked_Text</th>\n",
              "    </tr>\n",
              "  </thead>\n",
              "  <tbody>\n",
              "    <tr>\n",
              "      <th>2</th>\n",
              "      <td>2022-03-18 16:22:44+00:00</td>\n",
              "      <td>i hesitated to buy a pc and now it’s gone [mask]</td>\n",
              "      <td>😭</td>\n",
              "      <td>i hesitated to buy a pc and now it’s gone 😭 😭</td>\n",
              "    </tr>\n",
              "    <tr>\n",
              "      <th>4</th>\n",
              "      <td>2022-03-18 14:45:18+00:00</td>\n",
              "      <td>mouloud sghir [mask] wtf</td>\n",
              "      <td>😭</td>\n",
              "      <td>mouloud sghir 😭 😭 😭 😭 😭 😭 😭 😭 😭 😭 😭 😭 wtf</td>\n",
              "    </tr>\n",
              "    <tr>\n",
              "      <th>5</th>\n",
              "      <td>2022-03-18 19:37:43+00:00</td>\n",
              "      <td>also nobody gonna stop saying the word himbo b...</td>\n",
              "      <td>😭</td>\n",
              "      <td>also nobody gonna stop saying the word himbo b...</td>\n",
              "    </tr>\n",
              "    <tr>\n",
              "      <th>6</th>\n",
              "      <td>2022-03-18 15:42:44+00:00</td>\n",
              "      <td>i just wanna know what channel the game gone b...</td>\n",
              "      <td>😭</td>\n",
              "      <td>i just wanna know what channel the game gone b...</td>\n",
              "    </tr>\n",
              "    <tr>\n",
              "      <th>7</th>\n",
              "      <td>2022-03-18 14:43:22+00:00</td>\n",
              "      <td>lmfaoooooo [mask] please seek help x</td>\n",
              "      <td>😭</td>\n",
              "      <td>lmfaoooooo 😭 😭 😭 please seek help x</td>\n",
              "    </tr>\n",
              "  </tbody>\n",
              "</table>\n",
              "</div>\n",
              "      <button class=\"colab-df-convert\" onclick=\"convertToInteractive('df-d178b827-16ee-4e05-8614-dbe1fdaff2e3')\"\n",
              "              title=\"Convert this dataframe to an interactive table.\"\n",
              "              style=\"display:none;\">\n",
              "        \n",
              "  <svg xmlns=\"http://www.w3.org/2000/svg\" height=\"24px\"viewBox=\"0 0 24 24\"\n",
              "       width=\"24px\">\n",
              "    <path d=\"M0 0h24v24H0V0z\" fill=\"none\"/>\n",
              "    <path d=\"M18.56 5.44l.94 2.06.94-2.06 2.06-.94-2.06-.94-.94-2.06-.94 2.06-2.06.94zm-11 1L8.5 8.5l.94-2.06 2.06-.94-2.06-.94L8.5 2.5l-.94 2.06-2.06.94zm10 10l.94 2.06.94-2.06 2.06-.94-2.06-.94-.94-2.06-.94 2.06-2.06.94z\"/><path d=\"M17.41 7.96l-1.37-1.37c-.4-.4-.92-.59-1.43-.59-.52 0-1.04.2-1.43.59L10.3 9.45l-7.72 7.72c-.78.78-.78 2.05 0 2.83L4 21.41c.39.39.9.59 1.41.59.51 0 1.02-.2 1.41-.59l7.78-7.78 2.81-2.81c.8-.78.8-2.07 0-2.86zM5.41 20L4 18.59l7.72-7.72 1.47 1.35L5.41 20z\"/>\n",
              "  </svg>\n",
              "      </button>\n",
              "      \n",
              "  <style>\n",
              "    .colab-df-container {\n",
              "      display:flex;\n",
              "      flex-wrap:wrap;\n",
              "      gap: 12px;\n",
              "    }\n",
              "\n",
              "    .colab-df-convert {\n",
              "      background-color: #E8F0FE;\n",
              "      border: none;\n",
              "      border-radius: 50%;\n",
              "      cursor: pointer;\n",
              "      display: none;\n",
              "      fill: #1967D2;\n",
              "      height: 32px;\n",
              "      padding: 0 0 0 0;\n",
              "      width: 32px;\n",
              "    }\n",
              "\n",
              "    .colab-df-convert:hover {\n",
              "      background-color: #E2EBFA;\n",
              "      box-shadow: 0px 1px 2px rgba(60, 64, 67, 0.3), 0px 1px 3px 1px rgba(60, 64, 67, 0.15);\n",
              "      fill: #174EA6;\n",
              "    }\n",
              "\n",
              "    [theme=dark] .colab-df-convert {\n",
              "      background-color: #3B4455;\n",
              "      fill: #D2E3FC;\n",
              "    }\n",
              "\n",
              "    [theme=dark] .colab-df-convert:hover {\n",
              "      background-color: #434B5C;\n",
              "      box-shadow: 0px 1px 3px 1px rgba(0, 0, 0, 0.15);\n",
              "      filter: drop-shadow(0px 1px 2px rgba(0, 0, 0, 0.3));\n",
              "      fill: #FFFFFF;\n",
              "    }\n",
              "  </style>\n",
              "\n",
              "      <script>\n",
              "        const buttonEl =\n",
              "          document.querySelector('#df-d178b827-16ee-4e05-8614-dbe1fdaff2e3 button.colab-df-convert');\n",
              "        buttonEl.style.display =\n",
              "          google.colab.kernel.accessAllowed ? 'block' : 'none';\n",
              "\n",
              "        async function convertToInteractive(key) {\n",
              "          const element = document.querySelector('#df-d178b827-16ee-4e05-8614-dbe1fdaff2e3');\n",
              "          const dataTable =\n",
              "            await google.colab.kernel.invokeFunction('convertToInteractive',\n",
              "                                                     [key], {});\n",
              "          if (!dataTable) return;\n",
              "\n",
              "          const docLinkHtml = 'Like what you see? Visit the ' +\n",
              "            '<a target=\"_blank\" href=https://colab.research.google.com/notebooks/data_table.ipynb>data table notebook</a>'\n",
              "            + ' to learn more about interactive tables.';\n",
              "          element.innerHTML = '';\n",
              "          dataTable['output_type'] = 'display_data';\n",
              "          await google.colab.output.renderOutput(dataTable, element);\n",
              "          const docLink = document.createElement('div');\n",
              "          docLink.innerHTML = docLinkHtml;\n",
              "          element.appendChild(docLink);\n",
              "        }\n",
              "      </script>\n",
              "    </div>\n",
              "  </div>\n",
              "  "
            ]
          },
          "metadata": {},
          "execution_count": 107
        }
      ]
    },
    {
      "cell_type": "code",
      "source": [
        "\n",
        "emo_data = emo_data.dropna()\n",
        "emo_data = emo_data.reset_index(drop= True)\n",
        "emo_data.to_csv('/content/drive/MyDrive/Emogen/emogen_mask_70.csv', index = False)"
      ],
      "metadata": {
        "id": "LZ30E9U_qEu2"
      },
      "execution_count": null,
      "outputs": []
    },
    {
      "cell_type": "code",
      "source": [
        "emo_data = pd.read_csv('/content/drive/MyDrive/Emogen/emogen_mask_70.csv')"
      ],
      "metadata": {
        "id": "ZFNDFa3TWZ4z"
      },
      "execution_count": null,
      "outputs": []
    }
  ],
  "metadata": {
    "accelerator": "GPU",
    "colab": {
      "machine_shape": "hm",
      "name": "Cleaning_Emogen.ipynb",
      "provenance": [],
      "background_execution": "on"
    },
    "environment": {
      "kernel": "python3",
      "name": "pytorch-gpu.1-10.m89",
      "type": "gcloud",
      "uri": "gcr.io/deeplearning-platform-release/pytorch-gpu.1-10:m89"
    },
    "kernelspec": {
      "display_name": "Python 3",
      "language": "python",
      "name": "python3"
    },
    "language_info": {
      "codemirror_mode": {
        "name": "ipython",
        "version": 3
      },
      "file_extension": ".py",
      "mimetype": "text/x-python",
      "name": "python",
      "nbconvert_exporter": "python",
      "pygments_lexer": "ipython3",
      "version": "3.7.12"
    }
  },
  "nbformat": 4,
  "nbformat_minor": 0
}