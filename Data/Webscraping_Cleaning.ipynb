{
 "cells": [
  {
   "cell_type": "code",
   "execution_count": 16,
   "metadata": {},
   "outputs": [],
   "source": [
    "import os\n",
    "import pandas as pd\n",
    "import snscrape.modules.twitter as sntwitter\n",
    "from datetime import date\n",
    "from emoji import demojize\n",
    "import re\n",
    "maxTweets = 1000000\n",
    "tweets_list = []"
   ]
  },
  {
   "cell_type": "code",
   "execution_count": null,
   "metadata": {},
   "outputs": [],
   "source": [
    "def text_clean(x, emoji):\n",
    "\n",
    "    ### Light\n",
    "    x = x.lower() # lowercase everything\n",
    "    #x = x.encode('ascii', 'ignore').decode()  # remove unicode characters\n",
    "    x = re.sub(r'https*\\S+', ' ', x) # remove links\n",
    "    x = re.sub(r'http*\\S+', ' ', x)\n",
    "    # cleaning up text\n",
    "    x = re.sub(r'\\'\\w+', '', x) \n",
    "    x = re.sub(r'\\w*\\d+\\w*', '', x)\n",
    "    x = re.sub(r'\\s{2,}', ' ', x)\n",
    "    x = re.sub(r'\\s[^\\w\\s]\\s', '', x)\n",
    "    x = demojize(x)\n",
    "    emoji_text = demojize(emoji)\n",
    "    x = re.sub(r\"{}\".format(emoji_text), \" [MASK] \", x) \n",
    "    return x"
   ]
  },
  {
   "cell_type": "code",
   "execution_count": 14,
   "metadata": {},
   "outputs": [],
   "source": [
    "emoji = '😎'"
   ]
  },
  {
   "cell_type": "code",
   "execution_count": 17,
   "metadata": {},
   "outputs": [
    {
     "name": "stdout",
     "output_type": "stream",
     "text": [
      "0\n"
     ]
    }
   ],
   "source": [
    "for i,tweet in enumerate(sntwitter.TwitterSearchScraper(emoji).get_items()):\n",
    "    if i>maxTweets:\n",
    "        break\n",
    "    if i % 10000 == 0:\n",
    "        print(i)\n",
    "    if tweet.lang  == 'en':\n",
    "        tweets_list.append([tweet.date, tweet.id, tweet.content, tweet.user.username])\n",
    "\n",
    "tweets_df = pd.DataFrame(tweets_list, columns=['Datetime', 'Tweet Id', 'Text', 'Username'])\n",
    "#tweets_df['Text'] = tweets_df.Text.apply(lambda x: text_clean(x, emoji))\n",
    "#tweets_df['Label'] = emoji\n",
    "#tweets_df.to_csv(emoji +'_unclean.csv', sep=',', index=False)"
   ]
  },
  {
   "cell_type": "code",
   "execution_count": 29,
   "metadata": {},
   "outputs": [
    {
     "name": "stderr",
     "output_type": "stream",
     "text": [
      "<ipython-input-29-c0f1136ee6e0>:2: SettingWithCopyWarning: \n",
      "A value is trying to be set on a copy of a slice from a DataFrame.\n",
      "Try using .loc[row_indexer,col_indexer] = value instead\n",
      "\n",
      "See the caveats in the documentation: https://pandas.pydata.org/pandas-docs/stable/user_guide/indexing.html#returning-a-view-versus-a-copy\n",
      "  x['Text'] = testing['Cleaned Text']\n"
     ]
    }
   ],
   "source": [
    "x = testing[['Datetime','Tweet Id','Text','Username','Label']]\n",
    "x['Text'] = testing['Cleaned Text']"
   ]
  },
  {
   "cell_type": "code",
   "execution_count": 8,
   "metadata": {},
   "outputs": [],
   "source": [
    "df_1 = pd.read_csv('webscraped_emojis/😭_unclean.csv')\n",
    "df_2 = pd.read_csv('webscraped_emojis/😂_unclean.csv')\n",
    "df_3 = pd.read_csv('webscraped_emojis/🤣_unclean.csv')\n",
    "df_4 = pd.read_csv('webscraped_emojis/🙃_unclean.csv')\n",
    "df_5 = pd.read_csv('webscraped_emojis/😶_unclean.csv')\n",
    "df_6 = pd.read_csv('webscraped_emojis/🥺_unclean.csv')\n",
    "df_7 = pd.read_csv('webscraped_emojis/😊_unclean.csv')\n",
    "df_8 = pd.read_csv('webscraped_emojis/🔥_unclean.csv')\n",
    "df_9 = pd.read_csv('webscraped_emojis/😍_unclean.csv')\n",
    "df_10 = pd.read_csv('webscraped_emojis/🥰_unclean.csv')\n",
    "df_11 = pd.read_csv('webscraped_emojis/😅_unclean.csv')\n",
    "df_12 = pd.read_csv('webscraped_emojis/🤪_unclean.csv')\n",
    "df_13 = pd.read_csv('webscraped_emojis/😱_unclean.csv')\n",
    "df_14 = pd.read_csv('webscraped_emojis/😆_unclean.csv')\n",
    "df_15 = pd.read_csv('webscraped_emojis/😇_unclean.csv')\n",
    "df_16 = pd.read_csv('webscraped_emojis/🤔_unclean.csv')\n",
    "df_17 = pd.read_csv('webscraped_emojis/🤧_unclean.csv')\n",
    "df_18 = pd.read_csv('webscraped_emojis/😃_unclean.csv')\n",
    "df_19 = pd.read_csv('webscraped_emojis/😁_unclean.csv')\n",
    "df_20 = pd.read_csv('webscraped_emojis/😯_unclean.csv')\n",
    "df_21 = pd.read_csv('webscraped_emojis/😏_unclean.csv')\n",
    "df_22 = pd.read_csv('webscraped_emojis/🤯_unclean.csv')\n",
    "df_23 = pd.read_csv('webscraped_emojis/🙄_unclean.csv')\n",
    "df_24 = pd.read_csv('webscraped_emojis/😑_unclean.csv')\n",
    "df_25 = pd.read_csv('webscraped_emojis/😳_unclean.csv')\n",
    "df_26 = pd.read_csv('webscraped_emojis/😛_unclean.csv')\n",
    "df_27 = pd.read_csv('webscraped_emojis/🤗_unclean.csv')\n",
    "df_28 = pd.read_csv('webscraped_emojis/😩_unclean.csv')\n",
    "df_29 = pd.read_csv('webscraped_emojis/😙_unclean.csv')\n",
    "df_30 = pd.read_csv('webscraped_emojis/🥳_unclean.csv')\n",
    "df_31 = pd.read_csv('webscraped_emojis/🧐_unclean.csv')\n",
    "df_32 = pd.read_csv('webscraped_emojis/😉_unclean.csv')\n",
    "df_33 = pd.read_csv('webscraped_emojis/😔_unclean.csv')\n",
    "df_34 = pd.read_csv('webscraped_emojis/😘_unclean.csv')\n",
    "df_35 = pd.read_csv('webscraped_emojis/😒_unclean.csv')\n",
    "df_36 = pd.read_csv('webscraped_emojis/🤨_unclean.csv')\n",
    "df_37 = pd.read_csv('webscraped_emojis/🤮_unclean.csv')\n",
    "df_38 = pd.read_csv('webscraped_emojis/😌_unclean.csv')\n",
    "df_39 = pd.read_csv('webscraped_emojis/🤫_unclean.csv')\n",
    "df_40 = pd.read_csv('webscraped_emojis/😄_unclean.csv')\n",
    "df_41 = pd.read_csv('webscraped_emojis/😎_unclean.csv')\n",
    "df_42 = pd.read_csv('webscraped_emojis/😡_unclean.csv')\n",
    "df_43 = pd.read_csv('webscraped_emojis/😢_unclean.csv')\n",
    "df_44 = pd.read_csv('webscraped_emojis/🥱_unclean.csv')\n",
    "df_45 = pd.read_csv('webscraped_emojis/😤_unclean.csv')\n",
    "df_46 = pd.read_csv('webscraped_emojis/🤐_unclean.csv')\n",
    "df_47 = pd.read_csv('webscraped_emojis/😴_unclean.csv')\n",
    "df_48 = pd.read_csv('webscraped_emojis/😈_unclean.csv')\n",
    "df_49 = pd.read_csv('webscraped_emojis/🤕_unclean.csv')\n",
    "df_50 = x\n",
    "df_51 = pd.read_csv('webscraped_emojis/😕_unclean.csv')"
   ]
  },
  {
   "cell_type": "code",
   "execution_count": 9,
   "metadata": {},
   "outputs": [],
   "source": [
    " combined = pd.concat([df_1,\n",
    "            df_2,\n",
    "            df_3,\n",
    "            df_4,\n",
    "            df_5,\n",
    "            df_6,\n",
    "            df_7,\n",
    "            df_8,\n",
    "            df_9,\n",
    "            df_10,\n",
    "            df_11,\n",
    "            df_12,\n",
    "            df_13,\n",
    "            df_14,\n",
    "            df_15,\n",
    "            df_16,\n",
    "            df_17,\n",
    "            df_18,\n",
    "            df_19,\n",
    "            df_20,\n",
    "            df_21,\n",
    "            df_22,\n",
    "            df_23,\n",
    "            df_24,\n",
    "            df_25,\n",
    "            df_26,\n",
    "            df_27,\n",
    "            df_28,\n",
    "            df_29,\n",
    "            df_30,\n",
    "            df_31,\n",
    "            df_32,\n",
    "            df_33,\n",
    "            df_34,\n",
    "            df_35,\n",
    "            df_36,\n",
    "            df_37,\n",
    "            df_38,\n",
    "            df_39,\n",
    "            df_40,\n",
    "            df_41,\n",
    "            df_42,\n",
    "            df_43,\n",
    "            df_44,\n",
    "            df_45,\n",
    "            df_46,\n",
    "            df_47,\n",
    "            df_48,\n",
    "            df_49,\n",
    "            df_50,\n",
    "            df_51])"
   ]
  },
  {
   "cell_type": "code",
   "execution_count": 10,
   "metadata": {},
   "outputs": [],
   "source": [
    "combined = combined.dropna()"
   ]
  },
  {
   "cell_type": "code",
   "execution_count": null,
   "metadata": {},
   "outputs": [],
   "source": [
    "combined2 = combined[combined[\"Text\"].str.contains('[MASK]')]"
   ]
  },
  {
   "cell_type": "code",
   "execution_count": null,
   "metadata": {},
   "outputs": [],
   "source": [
    "combined3= combined2.drop(['Username', 'Tweet Id'],axis = 1)"
   ]
  },
  {
   "cell_type": "code",
   "execution_count": null,
   "metadata": {},
   "outputs": [],
   "source": [
    "combined3.to_csv('emogen_dataset.csv', index=False)"
   ]
  },
  {
   "cell_type": "code",
   "execution_count": 2,
   "metadata": {},
   "outputs": [
    {
     "data": {
      "text/html": [
       "<div>\n",
       "<style scoped>\n",
       "    .dataframe tbody tr th:only-of-type {\n",
       "        vertical-align: middle;\n",
       "    }\n",
       "\n",
       "    .dataframe tbody tr th {\n",
       "        vertical-align: top;\n",
       "    }\n",
       "\n",
       "    .dataframe thead th {\n",
       "        text-align: right;\n",
       "    }\n",
       "</style>\n",
       "<table border=\"1\" class=\"dataframe\">\n",
       "  <thead>\n",
       "    <tr style=\"text-align: right;\">\n",
       "      <th></th>\n",
       "      <th>Datetime</th>\n",
       "      <th>Text</th>\n",
       "      <th>Label</th>\n",
       "    </tr>\n",
       "  </thead>\n",
       "  <tbody>\n",
       "    <tr>\n",
       "      <th>0</th>\n",
       "      <td>2022-03-18 19:56:59+00:00</td>\n",
       "      <td>@irishqream  [MASK]  [MASK]  [MASK]  [MASK]  [...</td>\n",
       "      <td>😭</td>\n",
       "    </tr>\n",
       "    <tr>\n",
       "      <th>1</th>\n",
       "      <td>2022-03-18 19:56:59+00:00</td>\n",
       "      <td>my laptop is shit, cant edit a single video pr...</td>\n",
       "      <td>😭</td>\n",
       "    </tr>\n",
       "    <tr>\n",
       "      <th>2</th>\n",
       "      <td>2022-03-18 19:56:59+00:00</td>\n",
       "      <td>he litrlly has a wide vocal rangee i think ppl...</td>\n",
       "      <td>😭</td>\n",
       "    </tr>\n",
       "    <tr>\n",
       "      <th>3</th>\n",
       "      <td>2022-03-18 19:56:58+00:00</td>\n",
       "      <td>he renigged so bad  [MASK]  [MASK]</td>\n",
       "      <td>😭</td>\n",
       "    </tr>\n",
       "    <tr>\n",
       "      <th>4</th>\n",
       "      <td>2022-03-18 19:56:58+00:00</td>\n",
       "      <td>:sparkles: emoji mood  [MASK] , :pleading_face...</td>\n",
       "      <td>😭</td>\n",
       "    </tr>\n",
       "  </tbody>\n",
       "</table>\n",
       "</div>"
      ],
      "text/plain": [
       "                    Datetime  \\\n",
       "0  2022-03-18 19:56:59+00:00   \n",
       "1  2022-03-18 19:56:59+00:00   \n",
       "2  2022-03-18 19:56:59+00:00   \n",
       "3  2022-03-18 19:56:58+00:00   \n",
       "4  2022-03-18 19:56:58+00:00   \n",
       "\n",
       "                                                Text Label  \n",
       "0  @irishqream  [MASK]  [MASK]  [MASK]  [MASK]  [...     😭  \n",
       "1  my laptop is shit, cant edit a single video pr...     😭  \n",
       "2  he litrlly has a wide vocal rangee i think ppl...     😭  \n",
       "3                he renigged so bad  [MASK]  [MASK]      😭  \n",
       "4  :sparkles: emoji mood  [MASK] , :pleading_face...     😭  "
      ]
     },
     "execution_count": 2,
     "metadata": {},
     "output_type": "execute_result"
    }
   ],
   "source": [
    "x = pd.read_csv('emogen_dataset.csv')\n",
    "x.head()\n"
   ]
  },
  {
   "cell_type": "code",
   "execution_count": 54,
   "metadata": {},
   "outputs": [],
   "source": [
    "def text_clean(x):\n",
    "    x = re.sub(r\"{}\".format('[MASK]'), \"\", x) \n",
    "    x = re.sub(r'\\[]', '', x)\n",
    "    return x"
   ]
  },
  {
   "cell_type": "code",
   "execution_count": 57,
   "metadata": {},
   "outputs": [],
   "source": [
    "sent = x['Text'].apply(text_clean)"
   ]
  },
  {
   "cell_type": "code",
   "execution_count": 58,
   "metadata": {},
   "outputs": [],
   "source": [
    "x['Text'] = sent"
   ]
  },
  {
   "cell_type": "code",
   "execution_count": 67,
   "metadata": {},
   "outputs": [
    {
     "data": {
      "text/plain": [
       "array(['😭', '😂', '🤣', '🙃', '😶', '🥺', '😊', '🔥', '😍', '🥰', '😅', '🤪', '😱',\n",
       "       '😆', '😇', '🤔', '🤧', '😃', '😁', '😯', '😏', '🤯', '🙄', '😑', '😳', '😛',\n",
       "       '🤗', '😩', '😙', '🥳', '🧐', '😉', '😔', '😘', '😒', '🤨', '🤮', '😌', '🤫',\n",
       "       '😄', '😎', '😡', '😢', '🥱', '😤', '🤐', '😴', '😈', '🤕', '🤤', '😕'],\n",
       "      dtype=object)"
      ]
     },
     "execution_count": 67,
     "metadata": {},
     "output_type": "execute_result"
    }
   ],
   "source": [
    "x['Label'].unique()"
   ]
  },
  {
   "cell_type": "code",
   "execution_count": 61,
   "metadata": {},
   "outputs": [],
   "source": [
    "x.to_csv('emogen_class_dataset.csv')"
   ]
  },
  {
   "cell_type": "code",
   "execution_count": 105,
   "metadata": {},
   "outputs": [
    {
     "data": {
      "text/html": [
       "<div>\n",
       "<style scoped>\n",
       "    .dataframe tbody tr th:only-of-type {\n",
       "        vertical-align: middle;\n",
       "    }\n",
       "\n",
       "    .dataframe tbody tr th {\n",
       "        vertical-align: top;\n",
       "    }\n",
       "\n",
       "    .dataframe thead th {\n",
       "        text-align: right;\n",
       "    }\n",
       "</style>\n",
       "<table border=\"1\" class=\"dataframe\">\n",
       "  <thead>\n",
       "    <tr style=\"text-align: right;\">\n",
       "      <th></th>\n",
       "      <th>Datetime</th>\n",
       "      <th>Text</th>\n",
       "      <th>Label</th>\n",
       "    </tr>\n",
       "  </thead>\n",
       "  <tbody>\n",
       "    <tr>\n",
       "      <th>0</th>\n",
       "      <td>2022-03-18 19:56:59+00:00</td>\n",
       "      <td>@irishqream                        i fucking l...</td>\n",
       "      <td>😭</td>\n",
       "    </tr>\n",
       "    <tr>\n",
       "      <th>1</th>\n",
       "      <td>2022-03-18 19:56:59+00:00</td>\n",
       "      <td>my laptop is shit, cant edit a single video pr...</td>\n",
       "      <td>😭</td>\n",
       "    </tr>\n",
       "    <tr>\n",
       "      <th>2</th>\n",
       "      <td>2022-03-18 19:56:59+00:00</td>\n",
       "      <td>he litrlly has a wide vocal rangee i think ppl...</td>\n",
       "      <td>😭</td>\n",
       "    </tr>\n",
       "    <tr>\n",
       "      <th>3</th>\n",
       "      <td>2022-03-18 19:56:58+00:00</td>\n",
       "      <td>he renigged so bad</td>\n",
       "      <td>😭</td>\n",
       "    </tr>\n",
       "    <tr>\n",
       "      <th>4</th>\n",
       "      <td>2022-03-18 19:56:58+00:00</td>\n",
       "      <td>:sparkles: emoji mood   , :pleading_face:, :fa...</td>\n",
       "      <td>😭</td>\n",
       "    </tr>\n",
       "  </tbody>\n",
       "</table>\n",
       "</div>"
      ],
      "text/plain": [
       "                    Datetime  \\\n",
       "0  2022-03-18 19:56:59+00:00   \n",
       "1  2022-03-18 19:56:59+00:00   \n",
       "2  2022-03-18 19:56:59+00:00   \n",
       "3  2022-03-18 19:56:58+00:00   \n",
       "4  2022-03-18 19:56:58+00:00   \n",
       "\n",
       "                                                Text Label  \n",
       "0  @irishqream                        i fucking l...     😭  \n",
       "1  my laptop is shit, cant edit a single video pr...     😭  \n",
       "2  he litrlly has a wide vocal rangee i think ppl...     😭  \n",
       "3                            he renigged so bad          😭  \n",
       "4  :sparkles: emoji mood   , :pleading_face:, :fa...     😭  "
      ]
     },
     "execution_count": 105,
     "metadata": {},
     "output_type": "execute_result"
    }
   ],
   "source": [
    "x = pd.read_csv('emogen_class_dataset.csv', index_col = 0)\n",
    "x.head()"
   ]
  }
 ],
 "metadata": {
  "kernelspec": {
   "display_name": "Python 3",
   "language": "python",
   "name": "python3"
  },
  "language_info": {
   "codemirror_mode": {
    "name": "ipython",
    "version": 3
   },
   "file_extension": ".py",
   "mimetype": "text/x-python",
   "name": "python",
   "nbconvert_exporter": "python",
   "pygments_lexer": "ipython3",
   "version": "3.8.5"
  }
 },
 "nbformat": 4,
 "nbformat_minor": 4
}
